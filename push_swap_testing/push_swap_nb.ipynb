{
 "cells": [
  {
   "attachments": {},
   "cell_type": "markdown",
   "metadata": {},
   "source": [
    "# Push Swap"
   ]
  },
  {
   "attachments": {},
   "cell_type": "markdown",
   "metadata": {},
   "source": [
    "## Makefile"
   ]
  },
  {
   "cell_type": "code",
   "execution_count": 2,
   "metadata": {},
   "outputs": [
    {
     "name": "stdout",
     "output_type": "stream",
     "text": [
      "Overwriting ../push_swap_working/Makefile\n"
     ]
    }
   ],
   "source": [
    "%%file ../push_swap_working/Makefile\n",
    "# **************************************************************************** #\n",
    "#                                                                              #\n",
    "#                                                         :::      ::::::::    #\n",
    "#    Makefile                                           :+:      :+:    :+:    #\n",
    "#                                                     +:+ +:+         +:+      #\n",
    "#    By: dpentlan <dpentlan@student.42.fr>          +#+  +:+       +#+         #\n",
    "#                                                 +#+#+#+#+#+   +#+            #\n",
    "#    Created: 2023/01/30 14:27:11 by dpentlan          #+#    #+#              #\n",
    "#    Updated: 2023/01/30 14:27:14 by dpentlan         ###   ########.fr        #\n",
    "#                                                                              #\n",
    "# **************************************************************************** #\n",
    "\n",
    "NAME = push_swap\n",
    "\n",
    "SRCS = push_swap.c \\\n",
    "\n",
    "SRCS_DIR = srcs/\n",
    "\n",
    "HEADERS_DIR = includes/\n",
    "\n",
    "OBJS = $(patsubst %.c,$(OBJS_DIR)%.o,$(SRCS))\n",
    "\n",
    "OBJS_DIR = objs/\n",
    "\n",
    "CFLAGS = -Wall -Wextra -Werror\n",
    "\n",
    "CC = cc\n",
    "\n",
    "all: $(NAME)\n",
    "\n",
    "$(NAME): $(OBJS)\n",
    "\tmake -C libft\n",
    "\t$(CC) $(CFLAGS) -I$(HEADERS_DIR) $(OBJS) -o $(NAME)\n",
    "\n",
    "$(OBJS_DIR)%.o: $(SRCS_DIR)%.c\n",
    "\t$(CC) -c $(CFLAGS) -I$(HEADERS_DIR) $< -o $@\n",
    "\n",
    "clean:\n",
    "\trm -f $(OBJS)\n",
    "\n",
    "fclean:\tclean\n",
    "\trm -f $(NAME)\n",
    "\n",
    "re:\tfclean all\n"
   ]
  },
  {
   "attachments": {},
   "cell_type": "markdown",
   "metadata": {},
   "source": [
    "## ~M~A~N~D~A~T~O~R~Y~"
   ]
  },
  {
   "attachments": {},
   "cell_type": "markdown",
   "metadata": {},
   "source": [
    "### push_swap.c"
   ]
  },
  {
   "cell_type": "code",
   "execution_count": 5,
   "metadata": {},
   "outputs": [
    {
     "name": "stdout",
     "output_type": "stream",
     "text": [
      "Overwriting ../push_swap_working/srcs/mandatory/push_swap.c\n"
     ]
    }
   ],
   "source": [
    "%%file ../push_swap_working/srcs/mandatory/push_swap.c\n",
    "/* ************************************************************************** */\n",
    "/*                                                                            */\n",
    "/*                                                        :::      ::::::::   */\n",
    "/*   push_swap.c                                        :+:      :+:    :+:   */\n",
    "/*                                                    +:+ +:+         +:+     */\n",
    "/*   By: dpentlan <dpentlan@student.42.fr>          +#+  +:+       +#+        */\n",
    "/*                                                +#+#+#+#+#+   +#+           */\n",
    "/*   Created: 2023/01/30 14:37:46 by dpentlan          #+#    #+#             */\n",
    "/*   Updated: 2023/01/30 14:37:51 by dpentlan         ###   ########.fr       */\n",
    "/*                                                                            */\n",
    "/* ************************************************************************** */\n",
    "\n",
    "#include \"push_swap.h\"\n",
    "\n",
    "int main (void)\n",
    "{\n",
    "\treturn 0;\n",
    "}\n"
   ]
  },
  {
   "attachments": {},
   "cell_type": "markdown",
   "metadata": {},
   "source": [
    "## ~B~O~N~U~S~"
   ]
  },
  {
   "cell_type": "code",
   "execution_count": null,
   "metadata": {},
   "outputs": [],
   "source": []
  },
  {
   "attachments": {},
   "cell_type": "markdown",
   "metadata": {},
   "source": [
    "## Testing"
   ]
  }
 ],
 "metadata": {
  "kernelspec": {
   "display_name": "Python 3",
   "language": "python",
   "name": "python3"
  },
  "language_info": {
   "codemirror_mode": {
    "name": "ipython",
    "version": 3
   },
   "file_extension": ".py",
   "mimetype": "text/x-python",
   "name": "python",
   "nbconvert_exporter": "python",
   "pygments_lexer": "ipython3",
   "version": "3.9.13"
  },
  "orig_nbformat": 4,
  "vscode": {
   "interpreter": {
    "hash": "35159eb0463b8d05d6ebfa33c61ec94116d03e3b5624b7d5f509435ae71b39b3"
   }
  }
 },
 "nbformat": 4,
 "nbformat_minor": 2
}
