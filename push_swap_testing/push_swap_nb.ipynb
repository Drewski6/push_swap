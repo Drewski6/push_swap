{
 "cells": [
  {
   "attachments": {},
   "cell_type": "markdown",
   "metadata": {},
   "source": [
    "# Push Swap"
   ]
  },
  {
   "attachments": {},
   "cell_type": "markdown",
   "metadata": {},
   "source": [
    "## Makefile"
   ]
  },
  {
   "cell_type": "code",
   "execution_count": 13,
   "metadata": {},
   "outputs": [
    {
     "name": "stdout",
     "output_type": "stream",
     "text": [
      "Overwriting ../push_swap_working/Makefile\n"
     ]
    }
   ],
   "source": [
    "%%file ../push_swap_working/Makefile\n",
    "# **************************************************************************** #\n",
    "#                                                                              #\n",
    "#                                                         :::      ::::::::    #\n",
    "#    Makefile                                           :+:      :+:    :+:    #\n",
    "#                                                     +:+ +:+         +:+      #\n",
    "#    By: dpentlan <dpentlan@student.42.fr>          +#+  +:+       +#+         #\n",
    "#                                                 +#+#+#+#+#+   +#+            #\n",
    "#    Created: 2023/01/30 14:27:11 by dpentlan          #+#    #+#              #\n",
    "#    Updated: 2023/01/30 14:27:14 by dpentlan         ###   ########.fr        #\n",
    "#                                                                              #\n",
    "# **************************************************************************** #\n",
    "\n",
    "NAME = push_swap\n",
    "\n",
    "# ***** Sources *****\n",
    "\n",
    "SRCS = push_swap.c \\\n",
    "\tps_utils_args.c \\\n",
    "\n",
    "SRCS_DIR = srcs/\n",
    "\n",
    "# ***** Includes *****\n",
    "\n",
    "INCS = push_swap.h\n",
    "\n",
    "INCS_DIR = includes/\n",
    "\n",
    "# ***** Objects *****\n",
    "\n",
    "OBJS = $(patsubst %.c,$(OBJS_DIR)%.o,$(SRCS))\n",
    "\n",
    "OBJS_DIR = objs/\n",
    "\n",
    "# ***** Compile and Archiver *****\n",
    "\n",
    "CFLAGS = -Wall -Wextra -Werror -g\n",
    "\n",
    "CC = cc\n",
    "\n",
    "LIBFT = -Llibft -lft\n",
    "\n",
    "# ***** Build *****\n",
    "\n",
    "all: $(NAME)\n",
    "\n",
    "$(NAME): $(OBJS)\n",
    "\tmake -C libft\n",
    "\t$(CC) $(CFLAGS) $(OBJS) $(LIBFT) -o $(NAME)\n",
    "\n",
    "$(OBJS_DIR)%.o: $(SRCS_DIR)%.c\n",
    "\t@mkdir -p $(OBJS_DIR)\n",
    "\t$(CC) -c $(CFLAGS) -I$(INCS_DIR) $< -o $@\n",
    "\n",
    "clean:\n",
    "\t@make -C libft clean --silent\n",
    "\t@rm -f $(OBJS)\n",
    "\n",
    "fclean:\tclean\n",
    "\t@make -C libft fclean --silent\n",
    "\t@rm -f $(NAME)\n",
    "\n",
    "re:\tfclean all\n"
   ]
  },
  {
   "attachments": {},
   "cell_type": "markdown",
   "metadata": {},
   "source": [
    "## ~M~A~N~D~A~T~O~R~Y~"
   ]
  },
  {
   "attachments": {},
   "cell_type": "markdown",
   "metadata": {},
   "source": [
    "### push_swap.h"
   ]
  },
  {
   "cell_type": "code",
   "execution_count": 41,
   "metadata": {},
   "outputs": [
    {
     "name": "stdout",
     "output_type": "stream",
     "text": [
      "Overwriting ../push_swap_working/includes/push_swap.h\n"
     ]
    }
   ],
   "source": [
    "%%file ../push_swap_working/includes/push_swap.h\n",
    "/* ************************************************************************** */\n",
    "/*                                                                            */\n",
    "/*                                                        :::      ::::::::   */\n",
    "/*   push_swap.h                                        :+:      :+:    :+:   */\n",
    "/*                                                    +:+ +:+         +:+     */\n",
    "/*   By: dpentlan <dpentlan@student.42.fr>          +#+  +:+       +#+        */\n",
    "/*                                                +#+#+#+#+#+   +#+           */\n",
    "/*   Created: 2023/01/30 14:37:59 by dpentlan          #+#    #+#             */\n",
    "/*   Updated: 2023/01/30 14:38:01 by dpentlan         ###   ########.fr       */\n",
    "/*                                                                            */\n",
    "/* ************************************************************************** */\n",
    "\n",
    "#ifndef PUSH_SWAP_H\n",
    "# define PUSH_SWAP_H\n",
    "# include \"../libft/includes/libft.h\"\n",
    "\n",
    "typedef struct s_list {\n",
    "\ts_list\t*next;\n",
    "\tint\t\tvalue;\n",
    "}\t\t\t\tt_list;\n",
    "\n",
    "//\tpush_swap.c\n",
    "int\terror();\n",
    "t_list\t*arg_switch(int argc, char **argv);\n",
    "\n",
    "//\tps_utils_args.c\n",
    "int\ts_arg_parse(char *s);\n",
    "\n",
    "//\tps_utils_t_list.c\n",
    "t_list\t*t_list_construct(char **table);\n",
    "\n",
    "#endif\n"
   ]
  },
  {
   "attachments": {},
   "cell_type": "markdown",
   "metadata": {},
   "source": [
    "### push_swap.c"
   ]
  },
  {
   "cell_type": "code",
   "execution_count": 35,
   "metadata": {},
   "outputs": [
    {
     "name": "stdout",
     "output_type": "stream",
     "text": [
      "Overwriting ../push_swap_working/srcs/push_swap.c\n"
     ]
    }
   ],
   "source": [
    "%%file ../push_swap_working/srcs/push_swap.c\n",
    "/* ************************************************************************** */\n",
    "/*                                                                            */\n",
    "/*                                                        :::      ::::::::   */\n",
    "/*   push_swap.c                                        :+:      :+:    :+:   */\n",
    "/*                                                    +:+ +:+         +:+     */\n",
    "/*   By: dpentlan <dpentlan@student.42.fr>          +#+  +:+       +#+        */\n",
    "/*                                                +#+#+#+#+#+   +#+           */\n",
    "/*   Created: 2023/01/30 14:37:46 by dpentlan          #+#    #+#             */\n",
    "/*   Updated: 2023/01/30 14:37:51 by dpentlan         ###   ########.fr       */\n",
    "/*                                                                            */\n",
    "/* ************************************************************************** */\n",
    "\n",
    "#include \"push_swap.h\"\n",
    "\n",
    "/*\t*** error (error and close) ***\n",
    " *\n",
    " *\tDisplays \"Error\\n\" to the terminal.\n",
    " */\n",
    "\n",
    "int\terror()\n",
    "{\n",
    "\twrite(2, \"Error\\n\", 6);\n",
    "\treturn (0);\n",
    "}\n",
    "\n",
    "/*\t*** arg_switch (argument switch) ***\n",
    " *\n",
    " *\tActs as a switch for which functions to use for parsing the arguments.\n",
    " *\tTakes an int 'argc' from main and a table of args 'argv' from main.\n",
    " *\tReturns address to t_list 'a' on success or 0 \"NULL\" on ERROR.\n",
    " */\n",
    "\n",
    "t_list\t*arg_switch(t_list *a, int argc, char **argv)\n",
    "{\n",
    "\tif (argc == 1)\n",
    "\t{\n",
    "\t\terror();\n",
    "\t\treturn (0);\n",
    "\t}\n",
    "\telse if (argc == 2)\n",
    "\t{\n",
    "\t\ta = s_arg_parse(argv[1]))\n",
    "\t\tif (!a) \n",
    "\t\t{\n",
    "\t\t\terror();\n",
    "\t\t\treturn (0);\n",
    "\t\t}\n",
    "\t\treturn (a);\n",
    "\t}\n",
    "\telse if (argc > 2)\n",
    "\t{\n",
    "\n",
    "\t\treturn (a);\n",
    "\t}\n",
    "\treturn (0);\n",
    "}\n",
    "\n",
    "/* *** main (push swap) ***\n",
    " *\n",
    " *\tEntry point for push_swap program.\n",
    " */\n",
    "\n",
    "int main (int argc, char **argv)\n",
    "{\n",
    "\tt_list\t*a;\n",
    "\n",
    "\ta = 0;\n",
    "\ta = arg_switch(argc, argv);\n",
    "\tif (!a)\n",
    "\t\treturn (-1);\n",
    "\treturn 0;\n",
    "}\n"
   ]
  },
  {
   "attachments": {},
   "cell_type": "markdown",
   "metadata": {},
   "source": [
    "### ps_utils_args.c"
   ]
  },
  {
   "cell_type": "code",
   "execution_count": 45,
   "metadata": {},
   "outputs": [
    {
     "name": "stdout",
     "output_type": "stream",
     "text": [
      "Overwriting ../push_swap_working/srcs/ps_utils_args.c\n"
     ]
    }
   ],
   "source": [
    "%%file ../push_swap_working/srcs/ps_utils_args.c\n",
    "/* ************************************************************************** */\n",
    "/*                                                                            */\n",
    "/*                                                        :::      ::::::::   */\n",
    "/*   ps_utils_args.c                                    :+:      :+:    :+:   */\n",
    "/*                                                    +:+ +:+         +:+     */\n",
    "/*   By: dpentlan <dpentlan@student.42.fr>          +#+  +:+       +#+        */\n",
    "/*                                                +#+#+#+#+#+   +#+           */\n",
    "/*   Created: 2023/02/14 10:17:57 by dpentlan          #+#    #+#             */\n",
    "/*   Updated: 2023/02/14 10:18:00 by dpentlan         ###   ########.fr       */\n",
    "/*                                                                            */\n",
    "/* ************************************************************************** */\n",
    "\n",
    "#include \"push_swap.h\"\n",
    "\n",
    "/*\t*** free_table (free table) ***\n",
    " *\n",
    " *\tFrees a char ** table created by ft_split.\n",
    " *\tTakes a table to free 'table'.\n",
    " *\tReturns nothing.\n",
    " */\n",
    "\n",
    "void\tfree_table(char **table)\n",
    "{\n",
    "\tint\ti;\n",
    "\n",
    "\twhile(table[i])\n",
    "\t\tfree(table[i]);\n",
    "\tfree(table);\n",
    "\treturn ;\n",
    "}\n",
    "\n",
    "/*\t*** s_arg_parse (single argument parse) ***\n",
    " *\n",
    " *\tParses a single string argument for integers.\n",
    " *\tTakes a single string 's'.\n",
    " *\tReturns address to t_list 'a' on success or 0 on ERROR.\n",
    " */\n",
    "\n",
    "t_list\t*s_arg_parse(char *s)\n",
    "{\n",
    "\tsize_t\ti;\n",
    "\tchar\t**table;\n",
    "\n",
    "\ti = 0;\n",
    "\ttable = 0;\n",
    "\twhile (s[i])\n",
    "\t{\n",
    "\t\tif (!ft_strchr(\"0123456789 \", s[i]))\n",
    "\t\t\treturn (-1);\n",
    "\t\ti++;\n",
    "\t}\n",
    "\ttable = ft_split(s, ' ');\n",
    "\tif (!table)\n",
    "\t\treturn (0);\n",
    "\ta = t_list_construct(table);\n",
    "\tif (!a)\n",
    "\t{\n",
    "\t\tfree_table(table);\n",
    "\t\treturn (0);\n",
    "\t}\n",
    "\tfree_table(table);\n",
    "\treturn (a);\n",
    "}\n"
   ]
  },
  {
   "cell_type": "markdown",
   "metadata": {},
   "source": [
    "### ps_utils_t_list.c"
   ]
  },
  {
   "cell_type": "code",
   "execution_count": 47,
   "metadata": {},
   "outputs": [
    {
     "name": "stdout",
     "output_type": "stream",
     "text": [
      "Overwriting ../push_swap_working/srcs/ps_utils_t_list.c\n"
     ]
    }
   ],
   "source": [
    "%%file ../push_swap_working/srcs/ps_utils_t_list.c\n",
    "/* ************************************************************************** */\n",
    "/*                                                                            */\n",
    "/*                                                        :::      ::::::::   */\n",
    "/*   ps_utils_t_list.c                                  :+:      :+:    :+:   */\n",
    "/*                                                    +:+ +:+         +:+     */\n",
    "/*   By: dpentlan <dpentlan@student.42.fr>          +#+  +:+       +#+        */\n",
    "/*                                                +#+#+#+#+#+   +#+           */\n",
    "/*   Created: 2023/02/14 11:35:48 by dpentlan          #+#    #+#             */\n",
    "/*   Updated: 2023/02/14 11:35:52 by dpentlan         ###   ########.fr       */\n",
    "/*                                                                            */\n",
    "/* ************************************************************************** */\n",
    "\n",
    "#include \"push_swap.h\"\n",
    "\n",
    "/*\t*** t_list_error (type list (struct) error) ***\n",
    " *\n",
    " *\tIf an error is encountered during the creation of a list (ie. duplicate\n",
    " *\tvalues), this error will free the list.\n",
    " */\n",
    "\n",
    "// t_list_error()\n",
    "\n",
    "/*\t*** t_list_construct (type list (struct) construct)***\n",
    " *\n",
    " *\tCreates a list of t_list structs while checking for duplicate values.\n",
    " *\tTakes a table of strings (which should only contain digits) 'table'.\n",
    " *\tReturns a pointer to a new t_list struct 'a'.\n",
    " */\n",
    "\n",
    "t_list\t*t_list_construct(char **table)\n",
    "{\n",
    "\n",
    "\treturn (0);\n",
    "}\n"
   ]
  },
  {
   "attachments": {},
   "cell_type": "markdown",
   "metadata": {},
   "source": [
    "## ~B~O~N~U~S~"
   ]
  },
  {
   "attachments": {},
   "cell_type": "markdown",
   "metadata": {},
   "source": [
    "## Testing"
   ]
  },
  {
   "attachments": {},
   "cell_type": "markdown",
   "metadata": {},
   "source": [
    "### initial test"
   ]
  },
  {
   "cell_type": "code",
   "execution_count": 140,
   "metadata": {},
   "outputs": [
    {
     "name": "stdout",
     "output_type": "stream",
     "text": [
      "(null)\n",
      "argc = 1\n",
      "argv = 0x7ffdc102e588\n"
     ]
    }
   ],
   "source": [
    "%%bash\n",
    "cd ../push_swap_working\n",
    "make fclean > /dev/null\n",
    "make > /dev/null\n",
    "./push_swap"
   ]
  },
  {
   "cell_type": "code",
   "execution_count": 138,
   "metadata": {},
   "outputs": [
    {
     "name": "stdout",
     "output_type": "stream",
     "text": [
      "(null)\n",
      "argc = 1\n",
      "argv = 0x7ffee7ea4588\n"
     ]
    },
    {
     "name": "stderr",
     "output_type": "stream",
     "text": [
      "cat: yo: No such file or directory\n"
     ]
    }
   ],
   "source": [
    "%%bash\n",
    "cd ../push_swap_working\n",
    "cat yo | ./push_swap"
   ]
  }
 ],
 "metadata": {
  "kernelspec": {
   "display_name": "Python 3",
   "language": "python",
   "name": "python3"
  },
  "language_info": {
   "codemirror_mode": {
    "name": "ipython",
    "version": 3
   },
   "file_extension": ".py",
   "mimetype": "text/x-python",
   "name": "python",
   "nbconvert_exporter": "python",
   "pygments_lexer": "ipython3",
   "version": "3.9.13"
  },
  "orig_nbformat": 4,
  "vscode": {
   "interpreter": {
    "hash": "35159eb0463b8d05d6ebfa33c61ec94116d03e3b5624b7d5f509435ae71b39b3"
   }
  }
 },
 "nbformat": 4,
 "nbformat_minor": 2
}
